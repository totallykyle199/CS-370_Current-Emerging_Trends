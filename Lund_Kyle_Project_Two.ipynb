{
 "cells": [
  {
   "cell_type": "markdown",
   "metadata": {},
   "source": [
    "# Treasure Hunt Game Notebook\n",
    "\n",
    "## Read and Review Your Starter Code\n",
    "The theme of this project is a popular treasure hunt game in which the player needs to find the treasure before the pirate does. While you will not be developing the entire game, you will write the part of the game that represents the intelligent agent, which is a pirate in this case. The pirate will try to find the optimal path to the treasure using deep Q-learning. \n",
    "\n",
    "You have been provided with two Python classes and this notebook to help you with this assignment. The first class, TreasureMaze.py, represents the environment, which includes a maze object defined as a matrix. The second class, GameExperience.py, stores the episodes – that is, all the states that come in between the initial state and the terminal state. This is later used by the agent for learning by experience, called \"exploration\". This notebook shows how to play a game. Your task is to complete the deep Q-learning implementation for which a skeleton implementation has been provided. The code blocks you will need to complete has #TODO as a header.\n",
    "\n",
    "First, read and review the next few code and instruction blocks to understand the code that you have been given."
   ]
  },
  {
   "cell_type": "code",
   "execution_count": 1,
   "metadata": {},
   "outputs": [
    {
     "name": "stderr",
     "output_type": "stream",
     "text": [
      "Using TensorFlow backend.\n"
     ]
    }
   ],
   "source": [
    "from __future__ import print_function\n",
    "import os, sys, time, datetime, json, random\n",
    "import numpy as np\n",
    "from keras.models import Sequential\n",
    "from keras.layers.core import Dense, Activation\n",
    "from keras.optimizers import SGD , Adam, RMSprop\n",
    "from keras.layers.advanced_activations import PReLU\n",
    "import matplotlib.pyplot as plt\n",
    "from TreasureMaze import TreasureMaze\n",
    "from GameExperience import GameExperience\n",
    "%matplotlib inline"
   ]
  },
  {
   "cell_type": "markdown",
   "metadata": {},
   "source": [
    "The following code block contains an 8x8 matrix that will be used as a maze object:"
   ]
  },
  {
   "cell_type": "code",
   "execution_count": 2,
   "metadata": {},
   "outputs": [],
   "source": [
    "maze = np.array([\n",
    "    [ 1.,  0.,  1.,  1.,  1.,  1.,  1.,  1.],\n",
    "    [ 1.,  0.,  1.,  1.,  1.,  0.,  1.,  1.],\n",
    "    [ 1.,  1.,  1.,  1.,  0.,  1.,  0.,  1.],\n",
    "    [ 1.,  1.,  1.,  0.,  1.,  1.,  1.,  1.],\n",
    "    [ 1.,  1.,  0.,  1.,  1.,  1.,  1.,  1.],\n",
    "    [ 1.,  1.,  1.,  0.,  1.,  0.,  0.,  0.],\n",
    "    [ 1.,  1.,  1.,  0.,  1.,  1.,  1.,  1.],\n",
    "    [ 1.,  1.,  1.,  1.,  0.,  1.,  1.,  1.]\n",
    "])"
   ]
  },
  {
   "cell_type": "markdown",
   "metadata": {},
   "source": [
    "This helper function allows a visual representation of the maze object:"
   ]
  },
  {
   "cell_type": "code",
   "execution_count": 3,
   "metadata": {},
   "outputs": [],
   "source": [
    "def show(qmaze):\n",
    "    plt.grid('on')\n",
    "    nrows, ncols = qmaze.maze.shape\n",
    "    ax = plt.gca()\n",
    "    ax.set_xticks(np.arange(0.5, nrows, 1))\n",
    "    ax.set_yticks(np.arange(0.5, ncols, 1))\n",
    "    ax.set_xticklabels([])\n",
    "    ax.set_yticklabels([])\n",
    "    canvas = np.copy(qmaze.maze)\n",
    "    for row,col in qmaze.visited:\n",
    "        canvas[row,col] = 0.6\n",
    "    pirate_row, pirate_col, _ = qmaze.state\n",
    "    canvas[pirate_row, pirate_col] = 0.3   # pirate cell\n",
    "    canvas[nrows-1, ncols-1] = 0.9 # treasure cell\n",
    "    img = plt.imshow(canvas, interpolation='none', cmap='gray')\n",
    "    return img"
   ]
  },
  {
   "cell_type": "markdown",
   "metadata": {},
   "source": [
    "The pirate agent can move in four directions: left, right, up, and down. \n",
    "\n",
    "While the agent primarily learns by experience through exploitation, often, the agent can choose to explore the environment to find previously undiscovered paths. This is called \"exploration\" and is defined by epsilon. This value is typically a lower value such as 0.1, which means for every ten attempts, the agent will attempt to learn by experience nine times and will randomly explore a new path one time. You are encouraged to try various values for the exploration factor and see how the algorithm performs."
   ]
  },
  {
   "cell_type": "code",
   "execution_count": 4,
   "metadata": {},
   "outputs": [],
   "source": [
    "LEFT = 0\n",
    "UP = 1\n",
    "RIGHT = 2\n",
    "DOWN = 3\n",
    "\n",
    "\n",
    "# Exploration factor\n",
    "epsilon = 0.1\n",
    "\n",
    "# Actions dictionary\n",
    "actions_dict = {\n",
    "    LEFT: 'left',\n",
    "    UP: 'up',\n",
    "    RIGHT: 'right',\n",
    "    DOWN: 'down',\n",
    "}\n",
    "\n",
    "num_actions = len(actions_dict)\n"
   ]
  },
  {
   "cell_type": "markdown",
   "metadata": {},
   "source": [
    "The sample code block and output below show creating a maze object and performing one action (DOWN), which returns the reward. The resulting updated environment is visualized."
   ]
  },
  {
   "cell_type": "code",
   "execution_count": 5,
   "metadata": {},
   "outputs": [
    {
     "name": "stdout",
     "output_type": "stream",
     "text": [
      "reward= -0.04\n"
     ]
    },
    {
     "data": {
      "text/plain": [
       "<matplotlib.image.AxesImage at 0x1b8972a0c48>"
      ]
     },
     "execution_count": 5,
     "metadata": {},
     "output_type": "execute_result"
    },
    {
     "data": {
      "image/png": "[encoded data removed]",
      "text/plain": [
       "<Figure size 432x288 with 1 Axes>"
      ]
     },
     "metadata": {
      "needs_background": "light"
     },
     "output_type": "display_data"
    }
   ],
   "source": [
    "qmaze = TreasureMaze(maze)\n",
    "canvas, reward, game_over = qmaze.act(DOWN)\n",
    "print(\"reward=\", reward)\n",
    "show(qmaze)"
   ]
  },
  {
   "cell_type": "markdown",
   "metadata": {},
   "source": [
    "This function simulates a full game based on the provided trained model. The other parameters include the TreasureMaze object and the starting position of the pirate."
   ]
  },
  {
   "cell_type": "code",
   "execution_count": 6,
   "metadata": {},
   "outputs": [],
   "source": [
    "def play_game(model, qmaze, pirate_cell):\n",
    "    qmaze.reset(pirate_cell)\n",
    "    envstate = qmaze.observe()\n",
    "    while True:\n",
    "        prev_envstate = envstate\n",
    "        # get next action\n",
    "        q = model.predict(prev_envstate)\n",
    "        action = np.argmax(q[0])\n",
    "\n",
    "        # apply action, get rewards and new state\n",
    "        envstate, reward, game_status = qmaze.act(action)\n",
    "        if game_status == 'win':\n",
    "            return True\n",
    "        elif game_status == 'lose':\n",
    "            return False"
   ]
  },
  {
   "cell_type": "markdown",
   "metadata": {},
   "source": [
    "This function helps you to determine whether the pirate can win any game at all. If your maze is not well designed, the pirate may not win any game at all. In this case, your training would not yield any result. The provided maze in this notebook ensures that there is a path to win and you can run this method to check."
   ]
  },
  {
   "cell_type": "code",
   "execution_count": 7,
   "metadata": {},
   "outputs": [],
   "source": [
    "def completion_check(model, qmaze):\n",
    "    for cell in qmaze.free_cells:\n",
    "        if not qmaze.valid_actions(cell):\n",
    "            return False\n",
    "        if not play_game(model, qmaze, cell):\n",
    "            return False\n",
    "    return True"
   ]
  },
  {
   "cell_type": "markdown",
   "metadata": {},
   "source": [
    "The code you have been given in this block will build the neural network model. Review the code and note the number of layers, as well as the activation, optimizer, and loss functions that are used to train the model."
   ]
  },
  {
   "cell_type": "code",
   "execution_count": 8,
   "metadata": {},
   "outputs": [],
   "source": [
    "def build_model(maze):\n",
    "    model = Sequential()\n",
    "    model.add(Dense(maze.size, input_shape=(maze.size,)))\n",
    "    model.add(PReLU())\n",
    "    model.add(Dense(maze.size))\n",
    "    model.add(PReLU())\n",
    "    model.add(Dense(num_actions))\n",
    "    model.compile(optimizer='adam', loss='mse')\n",
    "    return model"
   ]
  },
  {
   "cell_type": "markdown",
   "metadata": {},
   "source": [
    "# #TODO: Complete the Q-Training Algorithm Code Block\n",
    "\n",
    "This is your deep Q-learning implementation. The goal of your deep Q-learning implementation is to find the best possible navigation sequence that results in reaching the treasure cell while maximizing the reward. In your implementation, you need to determine the optimal number of epochs to achieve a 100% win rate.\n",
    "\n",
    "You will need to complete the section starting with #pseudocode. The pseudocode has been included for you."
   ]
  },
  {
   "cell_type": "code",
   "execution_count": 9,
   "metadata": {},
   "outputs": [],
   "source": [
    "def qtrain(model, maze, **opt):\n",
    "\n",
    "    # exploration factor\n",
    "    global epsilon \n",
    "\n",
    "    # number of epochs\n",
    "    n_epoch = opt.get('n_epoch', 15000)\n",
    "\n",
    "    # maximum memory to store episodes\n",
    "    max_memory = opt.get('max_memory', 1000)\n",
    "\n",
    "    # maximum data size for training\n",
    "    data_size = opt.get('data_size', 50)\n",
    "\n",
    "    # start time\n",
    "    start_time = datetime.datetime.now()\n",
    "\n",
    "    # Construct environment/game from numpy array: maze (see above)\n",
    "    qmaze = TreasureMaze(maze)\n",
    "\n",
    "    # Initialize experience replay object\n",
    "    experience = GameExperience(model, max_memory=max_memory)\n",
    "    \n",
    "    win_history = []   # history of win/lose game\n",
    "    hsize = qmaze.maze.size//2   # history window size\n",
    "    win_rate = 0.0\n",
    "\n",
    "        # Loop through epochs\n",
    "    for epoch in range(n_epoch):\n",
    "        # Agent_cell = randomly select a free cell\n",
    "        agent_cell = qmaze.free_cells[np.random.randint(0, len(qmaze.free_cells))]\n",
    "\n",
    "        # Reset the maze with agent set to above position\n",
    "        qmaze.reset(agent_cell)\n",
    "\n",
    "        # envstate = Environment.current_state\n",
    "        envstate = qmaze.observe()\n",
    "\n",
    "        n_episodes = 0  # Counter for episodes in an epoch\n",
    "        loss = 0.0\n",
    "\n",
    "        # While state is not game over\n",
    "        while True:\n",
    "            previous_envstate = envstate\n",
    "\n",
    "            # Action = randomly choose action (left, right, up, down) either by exploration or by exploitation\n",
    "            if np.random.rand() < epsilon:\n",
    "                action = np.random.choice([LEFT, UP, RIGHT, DOWN])\n",
    "            else:\n",
    "                # Choose action with the highest Q-value\n",
    "                q = model.predict(previous_envstate)\n",
    "                action = np.argmax(q[0])\n",
    "\n",
    "            # Take action and observe the environment\n",
    "            envstate, reward, game_status = qmaze.act(action)\n",
    "\n",
    "            episode = [previous_envstate, action, reward, envstate, game_status]\n",
    "\n",
    "            # Store episode in Experience replay object\n",
    "            experience.remember(episode)\n",
    "\n",
    "            # Train neural network model and evaluate loss\n",
    "            # Get data for training from experience replay\n",
    "            inputs, targets = experience.get_data(data_size=data_size)\n",
    "            if inputs is not None:\n",
    "                # Fit the model\n",
    "                loss += model.train_on_batch(inputs, targets)\n",
    "\n",
    "            # Increment episode counter\n",
    "            n_episodes += 1\n",
    "\n",
    "            # Check if game is over\n",
    "            if game_status == 'win':\n",
    "                win_history.append(1)  # Append win to history\n",
    "                win_rate = sum(win_history[-hsize:]) / hsize  # Calculate win rate\n",
    "                break\n",
    "            elif game_status == 'lose':\n",
    "                win_history.append(0)  # Append loss to history\n",
    "                win_rate = sum(win_history[-hsize:]) / hsize  # Calculate win rate\n",
    "                break\n",
    "\n",
    "    \n",
    "    \n",
    "    \n",
    "    #Print the epoch, loss, episodes, win count, and win rate for each epoch\n",
    "        dt = datetime.datetime.now() - start_time\n",
    "        t = format_time(dt.total_seconds())\n",
    "        template = \"Epoch: {:03d}/{:d} | Loss: {:.4f} | Episodes: {:d} | Win count: {:d} | Win rate: {:.3f} | time: {}\"\n",
    "        print(template.format(epoch, n_epoch-1, loss, n_episodes, sum(win_history), win_rate, t))\n",
    "        # We simply check if training has exhausted all free cells and if in all\n",
    "        # cases the agent won.\n",
    "        if win_rate > 0.9 : epsilon = 0.05\n",
    "        if sum(win_history[-hsize:]) == hsize and completion_check(model, qmaze):\n",
    "            print(\"Reached 100%% win rate at epoch: %d\" % (epoch,))\n",
    "            break\n",
    "    \n",
    "    \n",
    "    # Determine the total time for training\n",
    "    dt = datetime.datetime.now() - start_time\n",
    "    seconds = dt.total_seconds()\n",
    "    t = format_time(seconds)\n",
    "\n",
    "    print(\"n_epoch: %d, max_mem: %d, data: %d, time: %s\" % (epoch, max_memory, data_size, t))\n",
    "    return seconds\n",
    "\n",
    "# This is a small utility for printing readable time strings:\n",
    "def format_time(seconds):\n",
    "    if seconds < 400:\n",
    "        s = float(seconds)\n",
    "        return \"%.1f seconds\" % (s,)\n",
    "    elif seconds < 4000:\n",
    "        m = seconds / 60.0\n",
    "        return \"%.2f minutes\" % (m,)\n",
    "    else:\n",
    "        h = seconds / 3600.0\n",
    "        return \"%.2f hours\" % (h,)"
   ]
  },
  {
   "cell_type": "markdown",
   "metadata": {},
   "source": [
    "## Test Your Model\n",
    "\n",
    "Now we will start testing the deep Q-learning implementation. To begin, select **Cell**, then **Run All** from the menu bar. This will run your notebook. As it runs, you should see output begin to appear beneath the next few cells. The code below creates an instance of TreasureMaze."
   ]
  },
  {
   "cell_type": "code",
   "execution_count": 10,
   "metadata": {},
   "outputs": [
    {
     "data": {
      "text/plain": [
       "<matplotlib.image.AxesImage at 0x1b897366188>"
      ]
     },
     "execution_count": 10,
     "metadata": {},
     "output_type": "execute_result"
    },
    {
     "data": {
      "image/png": "[encoded data removed]",
      "text/plain": [
       "<Figure size 432x288 with 1 Axes>"
      ]
     },
     "metadata": {
      "needs_background": "light"
     },
     "output_type": "display_data"
    }
   ],
   "source": [
    "qmaze = TreasureMaze(maze)\n",
    "show(qmaze)"
   ]
  },
  {
   "cell_type": "markdown",
   "metadata": {},
   "source": [
    "In the next code block, you will build your model and train it using deep Q-learning. Note: This step takes several minutes to fully run."
   ]
  },
  {
   "cell_type": "code",
   "execution_count": 11,
   "metadata": {},
   "outputs": [
    {
     "name": "stdout",
     "output_type": "stream",
     "text": [
      "Epoch: 000/14999 | Loss: 0.4715 | Episodes: 147 | Win count: 0 | Win rate: 0.000 | time: 15.7 seconds\n",
      "Epoch: 001/14999 | Loss: 0.1782 | Episodes: 134 | Win count: 0 | Win rate: 0.000 | time: 30.5 seconds\n",
      "Epoch: 002/14999 | Loss: 0.1589 | Episodes: 136 | Win count: 0 | Win rate: 0.000 | time: 45.6 seconds\n",
      "Epoch: 003/14999 | Loss: 0.1535 | Episodes: 152 | Win count: 0 | Win rate: 0.000 | time: 62.1 seconds\n",
      "Epoch: 004/14999 | Loss: 0.1456 | Episodes: 136 | Win count: 0 | Win rate: 0.000 | time: 77.5 seconds\n",
      "Epoch: 005/14999 | Loss: 0.1304 | Episodes: 136 | Win count: 0 | Win rate: 0.000 | time: 95.8 seconds\n",
      "Epoch: 006/14999 | Loss: 0.1245 | Episodes: 134 | Win count: 0 | Win rate: 0.000 | time: 114.2 seconds\n",
      "Epoch: 007/14999 | Loss: 0.1153 | Episodes: 138 | Win count: 0 | Win rate: 0.000 | time: 133.9 seconds\n",
      "Epoch: 008/14999 | Loss: 0.0886 | Episodes: 139 | Win count: 0 | Win rate: 0.000 | time: 152.8 seconds\n",
      "Epoch: 009/14999 | Loss: 0.1104 | Episodes: 138 | Win count: 0 | Win rate: 0.000 | time: 167.8 seconds\n",
      "Epoch: 010/14999 | Loss: 0.1279 | Episodes: 147 | Win count: 0 | Win rate: 0.000 | time: 183.8 seconds\n",
      "Epoch: 011/14999 | Loss: 0.1779 | Episodes: 146 | Win count: 0 | Win rate: 0.000 | time: 200.1 seconds\n",
      "Epoch: 012/14999 | Loss: 0.1625 | Episodes: 138 | Win count: 0 | Win rate: 0.000 | time: 216.5 seconds\n",
      "Epoch: 013/14999 | Loss: 0.1135 | Episodes: 130 | Win count: 0 | Win rate: 0.000 | time: 231.6 seconds\n",
      "Epoch: 014/14999 | Loss: 0.0400 | Episodes: 40 | Win count: 1 | Win rate: 0.031 | time: 236.0 seconds\n",
      "Epoch: 015/14999 | Loss: 0.1802 | Episodes: 142 | Win count: 1 | Win rate: 0.031 | time: 251.7 seconds\n",
      "Epoch: 016/14999 | Loss: 0.2132 | Episodes: 136 | Win count: 1 | Win rate: 0.031 | time: 267.2 seconds\n",
      "Epoch: 017/14999 | Loss: 0.1687 | Episodes: 134 | Win count: 1 | Win rate: 0.031 | time: 282.9 seconds\n",
      "Epoch: 018/14999 | Loss: 0.1392 | Episodes: 134 | Win count: 1 | Win rate: 0.031 | time: 298.1 seconds\n",
      "Epoch: 019/14999 | Loss: 0.0002 | Episodes: 1 | Win count: 2 | Win rate: 0.062 | time: 298.2 seconds\n",
      "Epoch: 020/14999 | Loss: 0.1201 | Episodes: 147 | Win count: 2 | Win rate: 0.062 | time: 314.7 seconds\n",
      "Epoch: 021/14999 | Loss: 0.1959 | Episodes: 139 | Win count: 2 | Win rate: 0.062 | time: 332.2 seconds\n",
      "Epoch: 022/14999 | Loss: 0.2221 | Episodes: 146 | Win count: 2 | Win rate: 0.062 | time: 349.6 seconds\n",
      "Epoch: 023/14999 | Loss: 0.2722 | Episodes: 144 | Win count: 2 | Win rate: 0.062 | time: 367.2 seconds\n",
      "Epoch: 024/14999 | Loss: 0.1620 | Episodes: 141 | Win count: 3 | Win rate: 0.094 | time: 383.9 seconds\n",
      "Epoch: 025/14999 | Loss: 0.2039 | Episodes: 156 | Win count: 3 | Win rate: 0.094 | time: 6.78 minutes\n",
      "Epoch: 026/14999 | Loss: 0.3442 | Episodes: 154 | Win count: 3 | Win rate: 0.094 | time: 7.15 minutes\n",
      "Epoch: 027/14999 | Loss: 0.3540 | Episodes: 153 | Win count: 3 | Win rate: 0.094 | time: 7.51 minutes\n",
      "Epoch: 028/14999 | Loss: 0.1885 | Episodes: 132 | Win count: 3 | Win rate: 0.094 | time: 7.75 minutes\n",
      "Epoch: 029/14999 | Loss: 0.0241 | Episodes: 20 | Win count: 4 | Win rate: 0.125 | time: 7.79 minutes\n",
      "Epoch: 030/14999 | Loss: 0.0851 | Episodes: 46 | Win count: 5 | Win rate: 0.156 | time: 7.88 minutes\n",
      "Epoch: 031/14999 | Loss: 0.3434 | Episodes: 141 | Win count: 5 | Win rate: 0.156 | time: 8.14 minutes\n",
      "Epoch: 032/14999 | Loss: 0.2330 | Episodes: 134 | Win count: 5 | Win rate: 0.156 | time: 8.38 minutes\n",
      "Epoch: 033/14999 | Loss: 0.3877 | Episodes: 141 | Win count: 5 | Win rate: 0.156 | time: 8.65 minutes\n",
      "Epoch: 034/14999 | Loss: 0.1882 | Episodes: 137 | Win count: 5 | Win rate: 0.156 | time: 8.90 minutes\n",
      "Epoch: 035/14999 | Loss: 0.0919 | Episodes: 137 | Win count: 5 | Win rate: 0.156 | time: 9.16 minutes\n",
      "Epoch: 036/14999 | Loss: 0.1168 | Episodes: 142 | Win count: 5 | Win rate: 0.156 | time: 9.42 minutes\n",
      "Epoch: 037/14999 | Loss: 0.0040 | Episodes: 5 | Win count: 6 | Win rate: 0.188 | time: 9.43 minutes\n",
      "Epoch: 038/14999 | Loss: 0.0236 | Episodes: 13 | Win count: 7 | Win rate: 0.219 | time: 9.46 minutes\n",
      "Epoch: 039/14999 | Loss: 0.2890 | Episodes: 145 | Win count: 7 | Win rate: 0.219 | time: 9.74 minutes\n",
      "Epoch: 040/14999 | Loss: 0.1490 | Episodes: 77 | Win count: 8 | Win rate: 0.250 | time: 9.88 minutes\n",
      "Epoch: 041/14999 | Loss: 0.4547 | Episodes: 137 | Win count: 8 | Win rate: 0.250 | time: 10.14 minutes\n",
      "Epoch: 042/14999 | Loss: 0.3549 | Episodes: 148 | Win count: 8 | Win rate: 0.250 | time: 10.41 minutes\n",
      "Epoch: 043/14999 | Loss: 0.2568 | Episodes: 147 | Win count: 8 | Win rate: 0.250 | time: 10.68 minutes\n",
      "Epoch: 044/14999 | Loss: 0.1761 | Episodes: 138 | Win count: 8 | Win rate: 0.250 | time: 10.92 minutes\n",
      "Epoch: 045/14999 | Loss: 0.0007 | Episodes: 1 | Win count: 9 | Win rate: 0.281 | time: 10.93 minutes\n",
      "Epoch: 046/14999 | Loss: 0.2269 | Episodes: 140 | Win count: 9 | Win rate: 0.250 | time: 11.19 minutes\n",
      "Epoch: 047/14999 | Loss: 0.2122 | Episodes: 145 | Win count: 9 | Win rate: 0.250 | time: 11.48 minutes\n",
      "Epoch: 048/14999 | Loss: 0.0690 | Episodes: 68 | Win count: 10 | Win rate: 0.281 | time: 11.64 minutes\n",
      "Epoch: 049/14999 | Loss: 0.0787 | Episodes: 61 | Win count: 11 | Win rate: 0.312 | time: 11.78 minutes\n",
      "Epoch: 050/14999 | Loss: 0.2521 | Episodes: 139 | Win count: 11 | Win rate: 0.312 | time: 12.12 minutes\n",
      "Epoch: 051/14999 | Loss: 0.0587 | Episodes: 38 | Win count: 12 | Win rate: 0.312 | time: 12.21 minutes\n",
      "Epoch: 052/14999 | Loss: 0.3469 | Episodes: 152 | Win count: 12 | Win rate: 0.312 | time: 12.56 minutes\n",
      "Epoch: 053/14999 | Loss: 0.0094 | Episodes: 9 | Win count: 13 | Win rate: 0.344 | time: 12.57 minutes\n",
      "Epoch: 054/14999 | Loss: 0.0240 | Episodes: 13 | Win count: 14 | Win rate: 0.375 | time: 12.60 minutes\n",
      "Epoch: 055/14999 | Loss: 0.1129 | Episodes: 37 | Win count: 15 | Win rate: 0.406 | time: 12.67 minutes\n",
      "Epoch: 056/14999 | Loss: 0.0188 | Episodes: 2 | Win count: 16 | Win rate: 0.406 | time: 12.67 minutes\n",
      "Epoch: 057/14999 | Loss: 0.5626 | Episodes: 139 | Win count: 16 | Win rate: 0.406 | time: 12.92 minutes\n",
      "Epoch: 058/14999 | Loss: 0.4445 | Episodes: 133 | Win count: 16 | Win rate: 0.406 | time: 13.17 minutes\n",
      "Epoch: 059/14999 | Loss: 0.0011 | Episodes: 1 | Win count: 17 | Win rate: 0.438 | time: 13.17 minutes\n",
      "Epoch: 060/14999 | Loss: 0.3429 | Episodes: 144 | Win count: 17 | Win rate: 0.438 | time: 13.44 minutes\n",
      "Epoch: 061/14999 | Loss: 0.1853 | Episodes: 139 | Win count: 17 | Win rate: 0.406 | time: 13.70 minutes\n",
      "Epoch: 062/14999 | Loss: 0.1084 | Episodes: 144 | Win count: 17 | Win rate: 0.375 | time: 13.95 minutes\n",
      "Epoch: 063/14999 | Loss: 0.0122 | Episodes: 14 | Win count: 18 | Win rate: 0.406 | time: 13.98 minutes\n",
      "Epoch: 064/14999 | Loss: 0.1815 | Episodes: 144 | Win count: 18 | Win rate: 0.406 | time: 14.24 minutes\n",
      "Epoch: 065/14999 | Loss: 0.0379 | Episodes: 30 | Win count: 19 | Win rate: 0.438 | time: 14.30 minutes\n",
      "Epoch: 066/14999 | Loss: 0.1076 | Episodes: 80 | Win count: 20 | Win rate: 0.469 | time: 14.46 minutes\n",
      "Epoch: 067/14999 | Loss: 0.1610 | Episodes: 134 | Win count: 20 | Win rate: 0.469 | time: 14.71 minutes\n",
      "Epoch: 068/14999 | Loss: 0.1472 | Episodes: 137 | Win count: 20 | Win rate: 0.469 | time: 14.96 minutes\n",
      "Epoch: 069/14999 | Loss: 0.1354 | Episodes: 150 | Win count: 20 | Win rate: 0.438 | time: 15.25 minutes\n",
      "Epoch: 070/14999 | Loss: 0.1356 | Episodes: 144 | Win count: 20 | Win rate: 0.406 | time: 15.52 minutes\n",
      "Epoch: 071/14999 | Loss: 0.1489 | Episodes: 142 | Win count: 20 | Win rate: 0.406 | time: 15.78 minutes\n",
      "Epoch: 072/14999 | Loss: 0.1594 | Episodes: 138 | Win count: 20 | Win rate: 0.375 | time: 16.03 minutes\n",
      "Epoch: 073/14999 | Loss: 0.1234 | Episodes: 133 | Win count: 21 | Win rate: 0.406 | time: 16.27 minutes\n",
      "Epoch: 074/14999 | Loss: 0.0347 | Episodes: 38 | Win count: 22 | Win rate: 0.438 | time: 16.33 minutes\n",
      "Epoch: 075/14999 | Loss: 0.1070 | Episodes: 81 | Win count: 23 | Win rate: 0.469 | time: 16.52 minutes\n",
      "Epoch: 076/14999 | Loss: 0.0142 | Episodes: 10 | Win count: 24 | Win rate: 0.500 | time: 16.55 minutes\n",
      "Epoch: 077/14999 | Loss: 0.1570 | Episodes: 113 | Win count: 25 | Win rate: 0.500 | time: 16.81 minutes\n",
      "Epoch: 078/14999 | Loss: 0.0774 | Episodes: 52 | Win count: 26 | Win rate: 0.531 | time: 16.94 minutes\n",
      "Epoch: 079/14999 | Loss: 0.1712 | Episodes: 133 | Win count: 26 | Win rate: 0.531 | time: 17.26 minutes\n"
     ]
    },
    {
     "name": "stdout",
     "output_type": "stream",
     "text": [
      "Epoch: 080/14999 | Loss: 0.0350 | Episodes: 27 | Win count: 27 | Win rate: 0.531 | time: 17.32 minutes\n",
      "Epoch: 081/14999 | Loss: 0.0176 | Episodes: 11 | Win count: 28 | Win rate: 0.531 | time: 17.35 minutes\n",
      "Epoch: 082/14999 | Loss: 0.1644 | Episodes: 135 | Win count: 28 | Win rate: 0.531 | time: 17.63 minutes\n",
      "Epoch: 083/14999 | Loss: 0.0143 | Episodes: 12 | Win count: 29 | Win rate: 0.531 | time: 17.66 minutes\n",
      "Epoch: 084/14999 | Loss: 0.0212 | Episodes: 14 | Win count: 30 | Win rate: 0.562 | time: 17.68 minutes\n",
      "Epoch: 085/14999 | Loss: 0.0175 | Episodes: 14 | Win count: 31 | Win rate: 0.562 | time: 17.71 minutes\n",
      "Epoch: 086/14999 | Loss: 0.0136 | Episodes: 13 | Win count: 32 | Win rate: 0.562 | time: 17.74 minutes\n",
      "Epoch: 087/14999 | Loss: 0.1135 | Episodes: 133 | Win count: 32 | Win rate: 0.531 | time: 17.99 minutes\n",
      "Epoch: 088/14999 | Loss: 0.0924 | Episodes: 136 | Win count: 32 | Win rate: 0.500 | time: 18.24 minutes\n",
      "Epoch: 089/14999 | Loss: 0.1159 | Episodes: 140 | Win count: 32 | Win rate: 0.500 | time: 18.50 minutes\n",
      "Epoch: 090/14999 | Loss: 0.1040 | Episodes: 135 | Win count: 32 | Win rate: 0.500 | time: 18.74 minutes\n",
      "Epoch: 091/14999 | Loss: 0.0941 | Episodes: 137 | Win count: 32 | Win rate: 0.469 | time: 19.00 minutes\n",
      "Epoch: 092/14999 | Loss: 0.0166 | Episodes: 19 | Win count: 33 | Win rate: 0.500 | time: 19.04 minutes\n",
      "Epoch: 093/14999 | Loss: 0.0065 | Episodes: 9 | Win count: 34 | Win rate: 0.531 | time: 19.05 minutes\n",
      "Epoch: 094/14999 | Loss: 0.0040 | Episodes: 6 | Win count: 35 | Win rate: 0.562 | time: 19.07 minutes\n",
      "Epoch: 095/14999 | Loss: 0.0914 | Episodes: 133 | Win count: 35 | Win rate: 0.531 | time: 19.31 minutes\n",
      "Epoch: 096/14999 | Loss: 0.0807 | Episodes: 134 | Win count: 35 | Win rate: 0.531 | time: 19.56 minutes\n",
      "Epoch: 097/14999 | Loss: 0.0625 | Episodes: 139 | Win count: 35 | Win rate: 0.500 | time: 19.82 minutes\n",
      "Epoch: 098/14999 | Loss: 0.0020 | Episodes: 5 | Win count: 36 | Win rate: 0.500 | time: 19.83 minutes\n",
      "Epoch: 099/14999 | Loss: 0.0155 | Episodes: 30 | Win count: 37 | Win rate: 0.531 | time: 19.88 minutes\n",
      "Epoch: 100/14999 | Loss: 0.0795 | Episodes: 134 | Win count: 37 | Win rate: 0.531 | time: 20.14 minutes\n",
      "Epoch: 101/14999 | Loss: 0.1088 | Episodes: 139 | Win count: 37 | Win rate: 0.531 | time: 20.39 minutes\n",
      "Epoch: 102/14999 | Loss: 0.1086 | Episodes: 137 | Win count: 37 | Win rate: 0.531 | time: 20.64 minutes\n",
      "Epoch: 103/14999 | Loss: 0.1099 | Episodes: 137 | Win count: 37 | Win rate: 0.531 | time: 20.90 minutes\n",
      "Epoch: 104/14999 | Loss: 0.0825 | Episodes: 129 | Win count: 37 | Win rate: 0.531 | time: 21.14 minutes\n",
      "Epoch: 105/14999 | Loss: 0.0761 | Episodes: 139 | Win count: 37 | Win rate: 0.500 | time: 21.40 minutes\n",
      "Epoch: 106/14999 | Loss: 0.0006 | Episodes: 1 | Win count: 38 | Win rate: 0.500 | time: 21.40 minutes\n",
      "Epoch: 107/14999 | Loss: 0.1072 | Episodes: 143 | Win count: 38 | Win rate: 0.469 | time: 21.75 minutes\n",
      "Epoch: 108/14999 | Loss: 0.1127 | Episodes: 82 | Win count: 39 | Win rate: 0.469 | time: 21.95 minutes\n",
      "Epoch: 109/14999 | Loss: 0.1796 | Episodes: 141 | Win count: 39 | Win rate: 0.438 | time: 22.28 minutes\n",
      "Epoch: 110/14999 | Loss: 0.0066 | Episodes: 4 | Win count: 40 | Win rate: 0.438 | time: 22.30 minutes\n",
      "Epoch: 111/14999 | Loss: 0.1575 | Episodes: 112 | Win count: 41 | Win rate: 0.469 | time: 22.54 minutes\n",
      "Epoch: 112/14999 | Loss: 0.1183 | Episodes: 78 | Win count: 42 | Win rate: 0.469 | time: 22.68 minutes\n",
      "Epoch: 113/14999 | Loss: 0.0505 | Episodes: 36 | Win count: 43 | Win rate: 0.469 | time: 22.74 minutes\n",
      "Epoch: 114/14999 | Loss: 0.0104 | Episodes: 8 | Win count: 44 | Win rate: 0.500 | time: 22.76 minutes\n",
      "Epoch: 115/14999 | Loss: 0.0246 | Episodes: 17 | Win count: 45 | Win rate: 0.500 | time: 22.79 minutes\n",
      "Epoch: 116/14999 | Loss: 0.0959 | Episodes: 62 | Win count: 46 | Win rate: 0.500 | time: 22.90 minutes\n",
      "Epoch: 117/14999 | Loss: 0.0892 | Episodes: 51 | Win count: 47 | Win rate: 0.500 | time: 23.00 minutes\n",
      "Epoch: 118/14999 | Loss: 0.0775 | Episodes: 44 | Win count: 48 | Win rate: 0.500 | time: 23.08 minutes\n",
      "Epoch: 119/14999 | Loss: 0.2296 | Episodes: 141 | Win count: 48 | Win rate: 0.500 | time: 23.35 minutes\n",
      "Epoch: 120/14999 | Loss: 0.0025 | Episodes: 2 | Win count: 49 | Win rate: 0.531 | time: 23.36 minutes\n",
      "Epoch: 121/14999 | Loss: 0.0339 | Episodes: 23 | Win count: 50 | Win rate: 0.562 | time: 23.40 minutes\n",
      "Epoch: 122/14999 | Loss: 0.1572 | Episodes: 100 | Win count: 51 | Win rate: 0.594 | time: 23.60 minutes\n",
      "Epoch: 123/14999 | Loss: 0.1815 | Episodes: 135 | Win count: 51 | Win rate: 0.594 | time: 23.86 minutes\n",
      "Epoch: 124/14999 | Loss: 0.1194 | Episodes: 97 | Win count: 52 | Win rate: 0.594 | time: 24.04 minutes\n",
      "Epoch: 125/14999 | Loss: 0.0188 | Episodes: 17 | Win count: 53 | Win rate: 0.594 | time: 24.08 minutes\n",
      "Epoch: 126/14999 | Loss: 0.0225 | Episodes: 20 | Win count: 54 | Win rate: 0.594 | time: 24.11 minutes\n",
      "Epoch: 127/14999 | Loss: 0.0049 | Episodes: 4 | Win count: 55 | Win rate: 0.625 | time: 24.12 minutes\n",
      "Epoch: 128/14999 | Loss: 0.0252 | Episodes: 20 | Win count: 56 | Win rate: 0.656 | time: 24.16 minutes\n",
      "Epoch: 129/14999 | Loss: 0.0253 | Episodes: 19 | Win count: 57 | Win rate: 0.688 | time: 24.19 minutes\n",
      "Epoch: 130/14999 | Loss: 0.0166 | Episodes: 16 | Win count: 58 | Win rate: 0.688 | time: 24.22 minutes\n",
      "Epoch: 131/14999 | Loss: 0.1529 | Episodes: 139 | Win count: 58 | Win rate: 0.656 | time: 24.48 minutes\n",
      "Epoch: 132/14999 | Loss: 0.0453 | Episodes: 46 | Win count: 59 | Win rate: 0.688 | time: 24.56 minutes\n",
      "Epoch: 133/14999 | Loss: 0.0080 | Episodes: 8 | Win count: 60 | Win rate: 0.719 | time: 24.57 minutes\n",
      "Epoch: 134/14999 | Loss: 0.0449 | Episodes: 42 | Win count: 61 | Win rate: 0.750 | time: 24.65 minutes\n",
      "Epoch: 135/14999 | Loss: 0.0295 | Episodes: 24 | Win count: 62 | Win rate: 0.781 | time: 24.69 minutes\n",
      "Epoch: 136/14999 | Loss: 0.1476 | Episodes: 136 | Win count: 62 | Win rate: 0.781 | time: 24.94 minutes\n",
      "Epoch: 137/14999 | Loss: 0.0011 | Episodes: 1 | Win count: 63 | Win rate: 0.812 | time: 24.94 minutes\n",
      "Epoch: 138/14999 | Loss: 0.0218 | Episodes: 23 | Win count: 64 | Win rate: 0.812 | time: 24.98 minutes\n",
      "Epoch: 139/14999 | Loss: 0.0016 | Episodes: 2 | Win count: 65 | Win rate: 0.844 | time: 24.99 minutes\n",
      "Epoch: 140/14999 | Loss: 0.0018 | Episodes: 2 | Win count: 66 | Win rate: 0.844 | time: 24.99 minutes\n",
      "Epoch: 141/14999 | Loss: 0.0085 | Episodes: 9 | Win count: 67 | Win rate: 0.875 | time: 25.01 minutes\n",
      "Epoch: 142/14999 | Loss: 0.0015 | Episodes: 1 | Win count: 68 | Win rate: 0.875 | time: 25.01 minutes\n",
      "Epoch: 143/14999 | Loss: 0.0226 | Episodes: 24 | Win count: 69 | Win rate: 0.875 | time: 25.06 minutes\n",
      "Epoch: 144/14999 | Loss: 0.0365 | Episodes: 36 | Win count: 70 | Win rate: 0.875 | time: 25.12 minutes\n",
      "Epoch: 145/14999 | Loss: 0.0452 | Episodes: 40 | Win count: 71 | Win rate: 0.875 | time: 25.19 minutes\n",
      "Epoch: 146/14999 | Loss: 0.0372 | Episodes: 32 | Win count: 72 | Win rate: 0.875 | time: 25.25 minutes\n",
      "Epoch: 147/14999 | Loss: 0.0679 | Episodes: 52 | Win count: 73 | Win rate: 0.875 | time: 25.35 minutes\n",
      "Epoch: 148/14999 | Loss: 0.0961 | Episodes: 66 | Win count: 74 | Win rate: 0.875 | time: 25.48 minutes\n",
      "Epoch: 149/14999 | Loss: 0.0027 | Episodes: 2 | Win count: 75 | Win rate: 0.875 | time: 25.48 minutes\n",
      "Epoch: 150/14999 | Loss: 0.0419 | Episodes: 33 | Win count: 76 | Win rate: 0.875 | time: 25.55 minutes\n",
      "Epoch: 151/14999 | Loss: 0.0158 | Episodes: 14 | Win count: 77 | Win rate: 0.906 | time: 25.57 minutes\n",
      "Epoch: 152/14999 | Loss: 0.0151 | Episodes: 12 | Win count: 78 | Win rate: 0.906 | time: 25.60 minutes\n",
      "Epoch: 153/14999 | Loss: 0.0213 | Episodes: 19 | Win count: 79 | Win rate: 0.906 | time: 25.63 minutes\n",
      "Epoch: 154/14999 | Loss: 0.0323 | Episodes: 27 | Win count: 80 | Win rate: 0.906 | time: 25.68 minutes\n",
      "Epoch: 155/14999 | Loss: 0.1016 | Episodes: 76 | Win count: 81 | Win rate: 0.938 | time: 25.82 minutes\n",
      "Epoch: 156/14999 | Loss: 0.0244 | Episodes: 19 | Win count: 82 | Win rate: 0.938 | time: 25.85 minutes\n",
      "Epoch: 157/14999 | Loss: 0.0183 | Episodes: 13 | Win count: 83 | Win rate: 0.938 | time: 25.88 minutes\n",
      "Epoch: 158/14999 | Loss: 0.0277 | Episodes: 21 | Win count: 84 | Win rate: 0.938 | time: 25.91 minutes\n",
      "Epoch: 159/14999 | Loss: 0.0019 | Episodes: 1 | Win count: 85 | Win rate: 0.938 | time: 25.92 minutes\n"
     ]
    },
    {
     "name": "stdout",
     "output_type": "stream",
     "text": [
      "Epoch: 160/14999 | Loss: 0.0104 | Episodes: 7 | Win count: 86 | Win rate: 0.938 | time: 25.93 minutes\n",
      "Epoch: 161/14999 | Loss: 0.0139 | Episodes: 9 | Win count: 87 | Win rate: 0.938 | time: 25.94 minutes\n",
      "Epoch: 162/14999 | Loss: 0.0526 | Episodes: 36 | Win count: 88 | Win rate: 0.938 | time: 26.01 minutes\n",
      "Epoch: 163/14999 | Loss: 0.0051 | Episodes: 4 | Win count: 89 | Win rate: 0.969 | time: 26.02 minutes\n",
      "Epoch: 164/14999 | Loss: 0.0427 | Episodes: 29 | Win count: 90 | Win rate: 0.969 | time: 26.07 minutes\n",
      "Epoch: 165/14999 | Loss: 0.0680 | Episodes: 50 | Win count: 91 | Win rate: 0.969 | time: 26.17 minutes\n",
      "Epoch: 166/14999 | Loss: 0.1505 | Episodes: 121 | Win count: 92 | Win rate: 0.969 | time: 26.39 minutes\n",
      "Epoch: 167/14999 | Loss: 0.0274 | Episodes: 20 | Win count: 93 | Win rate: 0.969 | time: 26.44 minutes\n",
      "Epoch: 168/14999 | Loss: 0.0335 | Episodes: 26 | Win count: 94 | Win rate: 1.000 | time: 26.52 minutes\n",
      "Epoch: 169/14999 | Loss: 0.0518 | Episodes: 40 | Win count: 95 | Win rate: 1.000 | time: 26.62 minutes\n",
      "Epoch: 170/14999 | Loss: 0.0443 | Episodes: 35 | Win count: 96 | Win rate: 1.000 | time: 26.71 minutes\n",
      "Epoch: 171/14999 | Loss: 0.0400 | Episodes: 34 | Win count: 97 | Win rate: 1.000 | time: 26.80 minutes\n",
      "Epoch: 172/14999 | Loss: 0.0238 | Episodes: 22 | Win count: 98 | Win rate: 1.000 | time: 26.86 minutes\n",
      "Epoch: 173/14999 | Loss: 0.0264 | Episodes: 22 | Win count: 99 | Win rate: 1.000 | time: 26.91 minutes\n",
      "Epoch: 174/14999 | Loss: 0.0104 | Episodes: 9 | Win count: 100 | Win rate: 1.000 | time: 26.94 minutes\n",
      "Epoch: 175/14999 | Loss: 0.0228 | Episodes: 18 | Win count: 101 | Win rate: 1.000 | time: 26.99 minutes\n",
      "Epoch: 176/14999 | Loss: 0.0295 | Episodes: 27 | Win count: 102 | Win rate: 1.000 | time: 27.06 minutes\n",
      "Epoch: 177/14999 | Loss: 0.0637 | Episodes: 55 | Win count: 103 | Win rate: 1.000 | time: 27.21 minutes\n",
      "Epoch: 178/14999 | Loss: 0.0342 | Episodes: 32 | Win count: 104 | Win rate: 1.000 | time: 27.29 minutes\n",
      "Epoch: 179/14999 | Loss: 0.0150 | Episodes: 14 | Win count: 105 | Win rate: 1.000 | time: 27.33 minutes\n",
      "Epoch: 180/14999 | Loss: 0.0220 | Episodes: 21 | Win count: 106 | Win rate: 1.000 | time: 27.38 minutes\n",
      "Epoch: 181/14999 | Loss: 0.0179 | Episodes: 20 | Win count: 107 | Win rate: 1.000 | time: 27.43 minutes\n",
      "Epoch: 182/14999 | Loss: 0.0018 | Episodes: 2 | Win count: 108 | Win rate: 1.000 | time: 27.45 minutes\n",
      "Epoch: 183/14999 | Loss: 0.0227 | Episodes: 26 | Win count: 109 | Win rate: 1.000 | time: 27.51 minutes\n",
      "Epoch: 184/14999 | Loss: 0.0013 | Episodes: 2 | Win count: 110 | Win rate: 1.000 | time: 27.52 minutes\n",
      "Epoch: 185/14999 | Loss: 0.0031 | Episodes: 3 | Win count: 111 | Win rate: 1.000 | time: 27.53 minutes\n",
      "Epoch: 186/14999 | Loss: 0.0097 | Episodes: 10 | Win count: 112 | Win rate: 1.000 | time: 27.55 minutes\n",
      "Epoch: 187/14999 | Loss: 0.0263 | Episodes: 26 | Win count: 113 | Win rate: 1.000 | time: 27.61 minutes\n",
      "Epoch: 188/14999 | Loss: 0.0335 | Episodes: 38 | Win count: 114 | Win rate: 1.000 | time: 27.69 minutes\n",
      "Epoch: 189/14999 | Loss: 0.0055 | Episodes: 7 | Win count: 115 | Win rate: 1.000 | time: 27.71 minutes\n",
      "Epoch: 190/14999 | Loss: 0.0202 | Episodes: 21 | Win count: 116 | Win rate: 1.000 | time: 27.75 minutes\n",
      "Epoch: 191/14999 | Loss: 0.0265 | Episodes: 28 | Win count: 117 | Win rate: 1.000 | time: 27.81 minutes\n",
      "Epoch: 192/14999 | Loss: 0.0011 | Episodes: 1 | Win count: 118 | Win rate: 1.000 | time: 27.81 minutes\n",
      "Epoch: 193/14999 | Loss: 0.0119 | Episodes: 14 | Win count: 119 | Win rate: 1.000 | time: 27.84 minutes\n",
      "Epoch: 194/14999 | Loss: 0.0162 | Episodes: 23 | Win count: 120 | Win rate: 1.000 | time: 27.89 minutes\n",
      "Epoch: 195/14999 | Loss: 0.0311 | Episodes: 39 | Win count: 121 | Win rate: 1.000 | time: 27.97 minutes\n",
      "Epoch: 196/14999 | Loss: 0.0760 | Episodes: 75 | Win count: 122 | Win rate: 1.000 | time: 28.12 minutes\n",
      "Epoch: 197/14999 | Loss: 0.0168 | Episodes: 17 | Win count: 123 | Win rate: 1.000 | time: 28.16 minutes\n",
      "Epoch: 198/14999 | Loss: 0.0095 | Episodes: 8 | Win count: 124 | Win rate: 1.000 | time: 28.18 minutes\n",
      "Epoch: 199/14999 | Loss: 0.0457 | Episodes: 37 | Win count: 125 | Win rate: 1.000 | time: 28.26 minutes\n",
      "Epoch: 200/14999 | Loss: 0.1131 | Episodes: 91 | Win count: 126 | Win rate: 1.000 | time: 28.44 minutes\n",
      "Epoch: 201/14999 | Loss: 0.0030 | Episodes: 3 | Win count: 127 | Win rate: 1.000 | time: 28.44 minutes\n",
      "Epoch: 202/14999 | Loss: 0.0025 | Episodes: 2 | Win count: 128 | Win rate: 1.000 | time: 28.46 minutes\n",
      "Epoch: 203/14999 | Loss: 0.0098 | Episodes: 10 | Win count: 129 | Win rate: 1.000 | time: 28.48 minutes\n",
      "Epoch: 204/14999 | Loss: 0.0191 | Episodes: 17 | Win count: 130 | Win rate: 1.000 | time: 28.52 minutes\n",
      "Epoch: 205/14999 | Loss: 0.0179 | Episodes: 14 | Win count: 131 | Win rate: 1.000 | time: 28.56 minutes\n",
      "Epoch: 206/14999 | Loss: 0.0231 | Episodes: 22 | Win count: 132 | Win rate: 1.000 | time: 28.60 minutes\n",
      "Epoch: 207/14999 | Loss: 0.0080 | Episodes: 7 | Win count: 133 | Win rate: 1.000 | time: 28.62 minutes\n",
      "Epoch: 208/14999 | Loss: 0.0133 | Episodes: 11 | Win count: 134 | Win rate: 1.000 | time: 28.64 minutes\n",
      "Epoch: 209/14999 | Loss: 0.0140 | Episodes: 12 | Win count: 135 | Win rate: 1.000 | time: 28.67 minutes\n",
      "Epoch: 210/14999 | Loss: 0.0045 | Episodes: 5 | Win count: 136 | Win rate: 1.000 | time: 28.69 minutes\n",
      "Epoch: 211/14999 | Loss: 0.0277 | Episodes: 27 | Win count: 137 | Win rate: 1.000 | time: 28.75 minutes\n",
      "Epoch: 212/14999 | Loss: 0.0207 | Episodes: 21 | Win count: 138 | Win rate: 1.000 | time: 28.79 minutes\n",
      "Epoch: 213/14999 | Loss: 0.0014 | Episodes: 1 | Win count: 139 | Win rate: 1.000 | time: 28.80 minutes\n",
      "Epoch: 214/14999 | Loss: 0.0113 | Episodes: 10 | Win count: 140 | Win rate: 1.000 | time: 28.83 minutes\n",
      "Epoch: 215/14999 | Loss: 0.0085 | Episodes: 6 | Win count: 141 | Win rate: 1.000 | time: 28.84 minutes\n",
      "Epoch: 216/14999 | Loss: 0.0168 | Episodes: 13 | Win count: 142 | Win rate: 1.000 | time: 28.87 minutes\n",
      "Epoch: 217/14999 | Loss: 0.0230 | Episodes: 24 | Win count: 143 | Win rate: 1.000 | time: 28.92 minutes\n",
      "Epoch: 218/14999 | Loss: 0.0434 | Episodes: 41 | Win count: 144 | Win rate: 1.000 | time: 29.00 minutes\n",
      "Epoch: 219/14999 | Loss: 0.0481 | Episodes: 49 | Win count: 145 | Win rate: 1.000 | time: 29.09 minutes\n",
      "Epoch: 220/14999 | Loss: 0.0364 | Episodes: 42 | Win count: 146 | Win rate: 1.000 | time: 29.17 minutes\n",
      "Epoch: 221/14999 | Loss: 0.0064 | Episodes: 6 | Win count: 147 | Win rate: 1.000 | time: 29.19 minutes\n",
      "Epoch: 222/14999 | Loss: 0.0213 | Episodes: 28 | Win count: 148 | Win rate: 1.000 | time: 29.25 minutes\n",
      "Epoch: 223/14999 | Loss: 0.0100 | Episodes: 15 | Win count: 149 | Win rate: 1.000 | time: 29.29 minutes\n",
      "Epoch: 224/14999 | Loss: 0.0056 | Episodes: 8 | Win count: 150 | Win rate: 1.000 | time: 29.31 minutes\n",
      "Epoch: 225/14999 | Loss: 0.0071 | Episodes: 13 | Win count: 151 | Win rate: 1.000 | time: 29.33 minutes\n",
      "Epoch: 226/14999 | Loss: 0.0156 | Episodes: 24 | Win count: 152 | Win rate: 1.000 | time: 29.39 minutes\n",
      "Epoch: 227/14999 | Loss: 0.0063 | Episodes: 10 | Win count: 153 | Win rate: 1.000 | time: 29.41 minutes\n",
      "Epoch: 228/14999 | Loss: 0.0074 | Episodes: 12 | Win count: 154 | Win rate: 1.000 | time: 29.43 minutes\n",
      "Epoch: 229/14999 | Loss: 0.0109 | Episodes: 18 | Win count: 155 | Win rate: 1.000 | time: 29.47 minutes\n",
      "Epoch: 230/14999 | Loss: 0.0021 | Episodes: 6 | Win count: 156 | Win rate: 1.000 | time: 29.49 minutes\n",
      "Epoch: 231/14999 | Loss: 0.0050 | Episodes: 9 | Win count: 157 | Win rate: 1.000 | time: 29.52 minutes\n",
      "Epoch: 232/14999 | Loss: 0.0164 | Episodes: 23 | Win count: 158 | Win rate: 1.000 | time: 29.56 minutes\n",
      "Epoch: 233/14999 | Loss: 0.0237 | Episodes: 33 | Win count: 159 | Win rate: 1.000 | time: 29.63 minutes\n",
      "Epoch: 234/14999 | Loss: 0.0039 | Episodes: 5 | Win count: 160 | Win rate: 1.000 | time: 29.64 minutes\n",
      "Epoch: 235/14999 | Loss: 0.0091 | Episodes: 12 | Win count: 161 | Win rate: 1.000 | time: 29.67 minutes\n",
      "Epoch: 236/14999 | Loss: 0.0104 | Episodes: 17 | Win count: 162 | Win rate: 1.000 | time: 29.70 minutes\n",
      "Epoch: 237/14999 | Loss: 0.0366 | Episodes: 46 | Win count: 163 | Win rate: 1.000 | time: 29.80 minutes\n",
      "Epoch: 238/14999 | Loss: 0.0101 | Episodes: 13 | Win count: 164 | Win rate: 1.000 | time: 29.83 minutes\n",
      "Epoch: 239/14999 | Loss: 0.0343 | Episodes: 37 | Win count: 165 | Win rate: 1.000 | time: 29.91 minutes\n"
     ]
    },
    {
     "name": "stdout",
     "output_type": "stream",
     "text": [
      "Epoch: 240/14999 | Loss: 0.0110 | Episodes: 12 | Win count: 166 | Win rate: 1.000 | time: 29.93 minutes\n",
      "Epoch: 241/14999 | Loss: 0.0018 | Episodes: 2 | Win count: 167 | Win rate: 1.000 | time: 29.94 minutes\n",
      "Epoch: 242/14999 | Loss: 0.0012 | Episodes: 1 | Win count: 168 | Win rate: 1.000 | time: 29.95 minutes\n",
      "Epoch: 243/14999 | Loss: 0.0057 | Episodes: 5 | Win count: 169 | Win rate: 1.000 | time: 29.98 minutes\n",
      "Epoch: 244/14999 | Loss: 0.0013 | Episodes: 1 | Win count: 170 | Win rate: 1.000 | time: 29.98 minutes\n",
      "Epoch: 245/14999 | Loss: 0.0015 | Episodes: 1 | Win count: 171 | Win rate: 1.000 | time: 29.99 minutes\n",
      "Epoch: 246/14999 | Loss: 0.0355 | Episodes: 37 | Win count: 172 | Win rate: 1.000 | time: 30.06 minutes\n",
      "Epoch: 247/14999 | Loss: 0.0463 | Episodes: 51 | Win count: 173 | Win rate: 1.000 | time: 30.16 minutes\n"
     ]
    },
    {
     "ename": "KeyboardInterrupt",
     "evalue": "",
     "output_type": "error",
     "traceback": [
      "\u001b[1;31m---------------------------------------------------------------------------\u001b[0m",
      "\u001b[1;31mKeyboardInterrupt\u001b[0m                         Traceback (most recent call last)",
      "\u001b[1;32m<ipython-input-11-3f866ecde593>\u001b[0m in \u001b[0;36m<module>\u001b[1;34m\u001b[0m\n\u001b[0;32m      1\u001b[0m \u001b[0mmodel\u001b[0m \u001b[1;33m=\u001b[0m \u001b[0mbuild_model\u001b[0m\u001b[1;33m(\u001b[0m\u001b[0mmaze\u001b[0m\u001b[1;33m)\u001b[0m\u001b[1;33m\u001b[0m\u001b[1;33m\u001b[0m\u001b[0m\n\u001b[1;32m----> 2\u001b[1;33m \u001b[0mqtrain\u001b[0m\u001b[1;33m(\u001b[0m\u001b[0mmodel\u001b[0m\u001b[1;33m,\u001b[0m \u001b[0mmaze\u001b[0m\u001b[1;33m,\u001b[0m \u001b[0mepochs\u001b[0m\u001b[1;33m=\u001b[0m\u001b[1;36m1000\u001b[0m\u001b[1;33m,\u001b[0m \u001b[0mmax_memory\u001b[0m\u001b[1;33m=\u001b[0m\u001b[1;36m8\u001b[0m\u001b[1;33m*\u001b[0m\u001b[0mmaze\u001b[0m\u001b[1;33m.\u001b[0m\u001b[0msize\u001b[0m\u001b[1;33m,\u001b[0m \u001b[0mdata_size\u001b[0m\u001b[1;33m=\u001b[0m\u001b[1;36m32\u001b[0m\u001b[1;33m)\u001b[0m\u001b[1;33m\u001b[0m\u001b[1;33m\u001b[0m\u001b[0m\n\u001b[0m",
      "\u001b[1;32m<ipython-input-9-416f6c798ce9>\u001b[0m in \u001b[0;36mqtrain\u001b[1;34m(model, maze, **opt)\u001b[0m\n\u001b[0;32m     84\u001b[0m             \u001b[1;31m# Train neural network model and evaluate loss\u001b[0m\u001b[1;33m\u001b[0m\u001b[1;33m\u001b[0m\u001b[1;33m\u001b[0m\u001b[0m\n\u001b[0;32m     85\u001b[0m             \u001b[1;31m# Get data for training from experience replay\u001b[0m\u001b[1;33m\u001b[0m\u001b[1;33m\u001b[0m\u001b[1;33m\u001b[0m\u001b[0m\n\u001b[1;32m---> 86\u001b[1;33m             \u001b[0minputs\u001b[0m\u001b[1;33m,\u001b[0m \u001b[0mtargets\u001b[0m \u001b[1;33m=\u001b[0m \u001b[0mexperience\u001b[0m\u001b[1;33m.\u001b[0m\u001b[0mget_data\u001b[0m\u001b[1;33m(\u001b[0m\u001b[0mdata_size\u001b[0m\u001b[1;33m=\u001b[0m\u001b[0mdata_size\u001b[0m\u001b[1;33m)\u001b[0m\u001b[1;33m\u001b[0m\u001b[1;33m\u001b[0m\u001b[0m\n\u001b[0m\u001b[0;32m     87\u001b[0m             \u001b[1;32mif\u001b[0m \u001b[0minputs\u001b[0m \u001b[1;32mis\u001b[0m \u001b[1;32mnot\u001b[0m \u001b[1;32mNone\u001b[0m\u001b[1;33m:\u001b[0m\u001b[1;33m\u001b[0m\u001b[1;33m\u001b[0m\u001b[0m\n\u001b[0;32m     88\u001b[0m                 \u001b[1;31m# Fit the model\u001b[0m\u001b[1;33m\u001b[0m\u001b[1;33m\u001b[0m\u001b[1;33m\u001b[0m\u001b[0m\n",
      "\u001b[1;32mU:\\TreasureHuntGame\\GameExperience.py\u001b[0m in \u001b[0;36mget_data\u001b[1;34m(self, data_size)\u001b[0m\n\u001b[0;32m     44\u001b[0m             \u001b[0mtargets\u001b[0m\u001b[1;33m[\u001b[0m\u001b[0mi\u001b[0m\u001b[1;33m]\u001b[0m \u001b[1;33m=\u001b[0m \u001b[0mself\u001b[0m\u001b[1;33m.\u001b[0m\u001b[0mpredict\u001b[0m\u001b[1;33m(\u001b[0m\u001b[0menvstate\u001b[0m\u001b[1;33m)\u001b[0m\u001b[1;33m\u001b[0m\u001b[1;33m\u001b[0m\u001b[0m\n\u001b[0;32m     45\u001b[0m             \u001b[1;31m# Q_sa = derived policy = max quality env/action = max_a' Q(s', a')\u001b[0m\u001b[1;33m\u001b[0m\u001b[1;33m\u001b[0m\u001b[1;33m\u001b[0m\u001b[0m\n\u001b[1;32m---> 46\u001b[1;33m             \u001b[0mQ_sa\u001b[0m \u001b[1;33m=\u001b[0m \u001b[0mnp\u001b[0m\u001b[1;33m.\u001b[0m\u001b[0mmax\u001b[0m\u001b[1;33m(\u001b[0m\u001b[0mself\u001b[0m\u001b[1;33m.\u001b[0m\u001b[0mpredict\u001b[0m\u001b[1;33m(\u001b[0m\u001b[0menvstate_next\u001b[0m\u001b[1;33m)\u001b[0m\u001b[1;33m)\u001b[0m\u001b[1;33m\u001b[0m\u001b[1;33m\u001b[0m\u001b[0m\n\u001b[0m\u001b[0;32m     47\u001b[0m             \u001b[1;32mif\u001b[0m \u001b[0mgame_over\u001b[0m\u001b[1;33m:\u001b[0m\u001b[1;33m\u001b[0m\u001b[1;33m\u001b[0m\u001b[0m\n\u001b[0;32m     48\u001b[0m                 \u001b[0mtargets\u001b[0m\u001b[1;33m[\u001b[0m\u001b[0mi\u001b[0m\u001b[1;33m,\u001b[0m \u001b[0maction\u001b[0m\u001b[1;33m]\u001b[0m \u001b[1;33m=\u001b[0m \u001b[0mreward\u001b[0m\u001b[1;33m\u001b[0m\u001b[1;33m\u001b[0m\u001b[0m\n",
      "\u001b[1;32mU:\\TreasureHuntGame\\GameExperience.py\u001b[0m in \u001b[0;36mpredict\u001b[1;34m(self, envstate)\u001b[0m\n\u001b[0;32m     29\u001b[0m     \u001b[1;31m# Predicts the next action based on the current environment state\u001b[0m\u001b[1;33m\u001b[0m\u001b[1;33m\u001b[0m\u001b[1;33m\u001b[0m\u001b[0m\n\u001b[0;32m     30\u001b[0m     \u001b[1;32mdef\u001b[0m \u001b[0mpredict\u001b[0m\u001b[1;33m(\u001b[0m\u001b[0mself\u001b[0m\u001b[1;33m,\u001b[0m \u001b[0menvstate\u001b[0m\u001b[1;33m)\u001b[0m\u001b[1;33m:\u001b[0m\u001b[1;33m\u001b[0m\u001b[1;33m\u001b[0m\u001b[0m\n\u001b[1;32m---> 31\u001b[1;33m         \u001b[1;32mreturn\u001b[0m \u001b[0mself\u001b[0m\u001b[1;33m.\u001b[0m\u001b[0mmodel\u001b[0m\u001b[1;33m.\u001b[0m\u001b[0mpredict\u001b[0m\u001b[1;33m(\u001b[0m\u001b[0menvstate\u001b[0m\u001b[1;33m)\u001b[0m\u001b[1;33m[\u001b[0m\u001b[1;36m0\u001b[0m\u001b[1;33m]\u001b[0m\u001b[1;33m\u001b[0m\u001b[1;33m\u001b[0m\u001b[0m\n\u001b[0m\u001b[0;32m     32\u001b[0m \u001b[1;33m\u001b[0m\u001b[0m\n\u001b[0;32m     33\u001b[0m     \u001b[1;31m# Returns input and targets from memory, defaults to data size of 10\u001b[0m\u001b[1;33m\u001b[0m\u001b[1;33m\u001b[0m\u001b[1;33m\u001b[0m\u001b[0m\n",
      "\u001b[1;32mC:\\ProgramData\\Anaconda3\\lib\\site-packages\\keras\\engine\\training.py\u001b[0m in \u001b[0;36mpredict\u001b[1;34m(self, x, batch_size, verbose, steps, callbacks, max_queue_size, workers, use_multiprocessing)\u001b[0m\n\u001b[0;32m   1460\u001b[0m                                             \u001b[0mverbose\u001b[0m\u001b[1;33m=\u001b[0m\u001b[0mverbose\u001b[0m\u001b[1;33m,\u001b[0m\u001b[1;33m\u001b[0m\u001b[1;33m\u001b[0m\u001b[0m\n\u001b[0;32m   1461\u001b[0m                                             \u001b[0msteps\u001b[0m\u001b[1;33m=\u001b[0m\u001b[0msteps\u001b[0m\u001b[1;33m,\u001b[0m\u001b[1;33m\u001b[0m\u001b[1;33m\u001b[0m\u001b[0m\n\u001b[1;32m-> 1462\u001b[1;33m                                             callbacks=callbacks)\n\u001b[0m\u001b[0;32m   1463\u001b[0m \u001b[1;33m\u001b[0m\u001b[0m\n\u001b[0;32m   1464\u001b[0m     def train_on_batch(self, x, y,\n",
      "\u001b[1;32mC:\\ProgramData\\Anaconda3\\lib\\site-packages\\keras\\engine\\training_arrays.py\u001b[0m in \u001b[0;36mpredict_loop\u001b[1;34m(model, f, ins, batch_size, verbose, steps, callbacks)\u001b[0m\n\u001b[0;32m    322\u001b[0m             \u001b[0mbatch_logs\u001b[0m \u001b[1;33m=\u001b[0m \u001b[1;33m{\u001b[0m\u001b[1;34m'batch'\u001b[0m\u001b[1;33m:\u001b[0m \u001b[0mbatch_index\u001b[0m\u001b[1;33m,\u001b[0m \u001b[1;34m'size'\u001b[0m\u001b[1;33m:\u001b[0m \u001b[0mlen\u001b[0m\u001b[1;33m(\u001b[0m\u001b[0mbatch_ids\u001b[0m\u001b[1;33m)\u001b[0m\u001b[1;33m}\u001b[0m\u001b[1;33m\u001b[0m\u001b[1;33m\u001b[0m\u001b[0m\n\u001b[0;32m    323\u001b[0m             \u001b[0mcallbacks\u001b[0m\u001b[1;33m.\u001b[0m\u001b[0m_call_batch_hook\u001b[0m\u001b[1;33m(\u001b[0m\u001b[1;34m'predict'\u001b[0m\u001b[1;33m,\u001b[0m \u001b[1;34m'begin'\u001b[0m\u001b[1;33m,\u001b[0m \u001b[0mbatch_index\u001b[0m\u001b[1;33m,\u001b[0m \u001b[0mbatch_logs\u001b[0m\u001b[1;33m)\u001b[0m\u001b[1;33m\u001b[0m\u001b[1;33m\u001b[0m\u001b[0m\n\u001b[1;32m--> 324\u001b[1;33m             \u001b[0mbatch_outs\u001b[0m \u001b[1;33m=\u001b[0m \u001b[0mf\u001b[0m\u001b[1;33m(\u001b[0m\u001b[0mins_batch\u001b[0m\u001b[1;33m)\u001b[0m\u001b[1;33m\u001b[0m\u001b[1;33m\u001b[0m\u001b[0m\n\u001b[0m\u001b[0;32m    325\u001b[0m             \u001b[0mbatch_outs\u001b[0m \u001b[1;33m=\u001b[0m \u001b[0mto_list\u001b[0m\u001b[1;33m(\u001b[0m\u001b[0mbatch_outs\u001b[0m\u001b[1;33m)\u001b[0m\u001b[1;33m\u001b[0m\u001b[1;33m\u001b[0m\u001b[0m\n\u001b[0;32m    326\u001b[0m             \u001b[1;32mif\u001b[0m \u001b[0mbatch_index\u001b[0m \u001b[1;33m==\u001b[0m \u001b[1;36m0\u001b[0m\u001b[1;33m:\u001b[0m\u001b[1;33m\u001b[0m\u001b[1;33m\u001b[0m\u001b[0m\n",
      "\u001b[1;32mC:\\ProgramData\\Anaconda3\\lib\\site-packages\\tensorflow_core\\python\\keras\\backend.py\u001b[0m in \u001b[0;36m__call__\u001b[1;34m(self, inputs)\u001b[0m\n\u001b[0;32m   3725\u001b[0m         \u001b[0mvalue\u001b[0m \u001b[1;33m=\u001b[0m \u001b[0mmath_ops\u001b[0m\u001b[1;33m.\u001b[0m\u001b[0mcast\u001b[0m\u001b[1;33m(\u001b[0m\u001b[0mvalue\u001b[0m\u001b[1;33m,\u001b[0m \u001b[0mtensor\u001b[0m\u001b[1;33m.\u001b[0m\u001b[0mdtype\u001b[0m\u001b[1;33m)\u001b[0m\u001b[1;33m\u001b[0m\u001b[1;33m\u001b[0m\u001b[0m\n\u001b[0;32m   3726\u001b[0m       \u001b[0mconverted_inputs\u001b[0m\u001b[1;33m.\u001b[0m\u001b[0mappend\u001b[0m\u001b[1;33m(\u001b[0m\u001b[0mvalue\u001b[0m\u001b[1;33m)\u001b[0m\u001b[1;33m\u001b[0m\u001b[1;33m\u001b[0m\u001b[0m\n\u001b[1;32m-> 3727\u001b[1;33m     \u001b[0moutputs\u001b[0m \u001b[1;33m=\u001b[0m \u001b[0mself\u001b[0m\u001b[1;33m.\u001b[0m\u001b[0m_graph_fn\u001b[0m\u001b[1;33m(\u001b[0m\u001b[1;33m*\u001b[0m\u001b[0mconverted_inputs\u001b[0m\u001b[1;33m)\u001b[0m\u001b[1;33m\u001b[0m\u001b[1;33m\u001b[0m\u001b[0m\n\u001b[0m\u001b[0;32m   3728\u001b[0m \u001b[1;33m\u001b[0m\u001b[0m\n\u001b[0;32m   3729\u001b[0m     \u001b[1;31m# EagerTensor.numpy() will often make a copy to ensure memory safety.\u001b[0m\u001b[1;33m\u001b[0m\u001b[1;33m\u001b[0m\u001b[1;33m\u001b[0m\u001b[0m\n",
      "\u001b[1;32mC:\\ProgramData\\Anaconda3\\lib\\site-packages\\tensorflow_core\\python\\eager\\function.py\u001b[0m in \u001b[0;36m__call__\u001b[1;34m(self, *args, **kwargs)\u001b[0m\n\u001b[0;32m   1549\u001b[0m       \u001b[0mTypeError\u001b[0m\u001b[1;33m:\u001b[0m \u001b[0mFor\u001b[0m \u001b[0minvalid\u001b[0m \u001b[0mpositional\u001b[0m\u001b[1;33m/\u001b[0m\u001b[0mkeyword\u001b[0m \u001b[0margument\u001b[0m \u001b[0mcombinations\u001b[0m\u001b[1;33m.\u001b[0m\u001b[1;33m\u001b[0m\u001b[1;33m\u001b[0m\u001b[0m\n\u001b[0;32m   1550\u001b[0m     \"\"\"\n\u001b[1;32m-> 1551\u001b[1;33m     \u001b[1;32mreturn\u001b[0m \u001b[0mself\u001b[0m\u001b[1;33m.\u001b[0m\u001b[0m_call_impl\u001b[0m\u001b[1;33m(\u001b[0m\u001b[0margs\u001b[0m\u001b[1;33m,\u001b[0m \u001b[0mkwargs\u001b[0m\u001b[1;33m)\u001b[0m\u001b[1;33m\u001b[0m\u001b[1;33m\u001b[0m\u001b[0m\n\u001b[0m\u001b[0;32m   1552\u001b[0m \u001b[1;33m\u001b[0m\u001b[0m\n\u001b[0;32m   1553\u001b[0m   \u001b[1;32mdef\u001b[0m \u001b[0m_call_impl\u001b[0m\u001b[1;33m(\u001b[0m\u001b[0mself\u001b[0m\u001b[1;33m,\u001b[0m \u001b[0margs\u001b[0m\u001b[1;33m,\u001b[0m \u001b[0mkwargs\u001b[0m\u001b[1;33m,\u001b[0m \u001b[0mcancellation_manager\u001b[0m\u001b[1;33m=\u001b[0m\u001b[1;32mNone\u001b[0m\u001b[1;33m)\u001b[0m\u001b[1;33m:\u001b[0m\u001b[1;33m\u001b[0m\u001b[1;33m\u001b[0m\u001b[0m\n",
      "\u001b[1;32mC:\\ProgramData\\Anaconda3\\lib\\site-packages\\tensorflow_core\\python\\eager\\function.py\u001b[0m in \u001b[0;36m_call_impl\u001b[1;34m(self, args, kwargs, cancellation_manager)\u001b[0m\n\u001b[0;32m   1589\u001b[0m       raise TypeError(\"Keyword arguments {} unknown. Expected {}.\".format(\n\u001b[0;32m   1590\u001b[0m           list(kwargs.keys()), list(self._arg_keywords)))\n\u001b[1;32m-> 1591\u001b[1;33m     \u001b[1;32mreturn\u001b[0m \u001b[0mself\u001b[0m\u001b[1;33m.\u001b[0m\u001b[0m_call_flat\u001b[0m\u001b[1;33m(\u001b[0m\u001b[0margs\u001b[0m\u001b[1;33m,\u001b[0m \u001b[0mself\u001b[0m\u001b[1;33m.\u001b[0m\u001b[0mcaptured_inputs\u001b[0m\u001b[1;33m,\u001b[0m \u001b[0mcancellation_manager\u001b[0m\u001b[1;33m)\u001b[0m\u001b[1;33m\u001b[0m\u001b[1;33m\u001b[0m\u001b[0m\n\u001b[0m\u001b[0;32m   1592\u001b[0m \u001b[1;33m\u001b[0m\u001b[0m\n\u001b[0;32m   1593\u001b[0m   \u001b[1;32mdef\u001b[0m \u001b[0m_filtered_call\u001b[0m\u001b[1;33m(\u001b[0m\u001b[0mself\u001b[0m\u001b[1;33m,\u001b[0m \u001b[0margs\u001b[0m\u001b[1;33m,\u001b[0m \u001b[0mkwargs\u001b[0m\u001b[1;33m)\u001b[0m\u001b[1;33m:\u001b[0m\u001b[1;33m\u001b[0m\u001b[1;33m\u001b[0m\u001b[0m\n",
      "\u001b[1;32mC:\\ProgramData\\Anaconda3\\lib\\site-packages\\tensorflow_core\\python\\eager\\function.py\u001b[0m in \u001b[0;36m_call_flat\u001b[1;34m(self, args, captured_inputs, cancellation_manager)\u001b[0m\n\u001b[0;32m   1690\u001b[0m       \u001b[1;31m# No tape is watching; skip to running the function.\u001b[0m\u001b[1;33m\u001b[0m\u001b[1;33m\u001b[0m\u001b[1;33m\u001b[0m\u001b[0m\n\u001b[0;32m   1691\u001b[0m       return self._build_call_outputs(self._inference_function.call(\n\u001b[1;32m-> 1692\u001b[1;33m           ctx, args, cancellation_manager=cancellation_manager))\n\u001b[0m\u001b[0;32m   1693\u001b[0m     forward_backward = self._select_forward_and_backward_functions(\n\u001b[0;32m   1694\u001b[0m         \u001b[0margs\u001b[0m\u001b[1;33m,\u001b[0m\u001b[1;33m\u001b[0m\u001b[1;33m\u001b[0m\u001b[0m\n",
      "\u001b[1;32mC:\\ProgramData\\Anaconda3\\lib\\site-packages\\tensorflow_core\\python\\eager\\function.py\u001b[0m in \u001b[0;36mcall\u001b[1;34m(self, ctx, args, cancellation_manager)\u001b[0m\n\u001b[0;32m    543\u001b[0m               \u001b[0minputs\u001b[0m\u001b[1;33m=\u001b[0m\u001b[0margs\u001b[0m\u001b[1;33m,\u001b[0m\u001b[1;33m\u001b[0m\u001b[1;33m\u001b[0m\u001b[0m\n\u001b[0;32m    544\u001b[0m               \u001b[0mattrs\u001b[0m\u001b[1;33m=\u001b[0m\u001b[1;33m(\u001b[0m\u001b[1;34m\"executor_type\"\u001b[0m\u001b[1;33m,\u001b[0m \u001b[0mexecutor_type\u001b[0m\u001b[1;33m,\u001b[0m \u001b[1;34m\"config_proto\"\u001b[0m\u001b[1;33m,\u001b[0m \u001b[0mconfig\u001b[0m\u001b[1;33m)\u001b[0m\u001b[1;33m,\u001b[0m\u001b[1;33m\u001b[0m\u001b[1;33m\u001b[0m\u001b[0m\n\u001b[1;32m--> 545\u001b[1;33m               ctx=ctx)\n\u001b[0m\u001b[0;32m    546\u001b[0m         \u001b[1;32melse\u001b[0m\u001b[1;33m:\u001b[0m\u001b[1;33m\u001b[0m\u001b[1;33m\u001b[0m\u001b[0m\n\u001b[0;32m    547\u001b[0m           outputs = execute.execute_with_cancellation(\n",
      "\u001b[1;32mC:\\ProgramData\\Anaconda3\\lib\\site-packages\\tensorflow_core\\python\\eager\\execute.py\u001b[0m in \u001b[0;36mquick_execute\u001b[1;34m(op_name, num_outputs, inputs, attrs, ctx, name)\u001b[0m\n\u001b[0;32m     59\u001b[0m     tensors = pywrap_tensorflow.TFE_Py_Execute(ctx._handle, device_name,\n\u001b[0;32m     60\u001b[0m                                                \u001b[0mop_name\u001b[0m\u001b[1;33m,\u001b[0m \u001b[0minputs\u001b[0m\u001b[1;33m,\u001b[0m \u001b[0mattrs\u001b[0m\u001b[1;33m,\u001b[0m\u001b[1;33m\u001b[0m\u001b[1;33m\u001b[0m\u001b[0m\n\u001b[1;32m---> 61\u001b[1;33m                                                num_outputs)\n\u001b[0m\u001b[0;32m     62\u001b[0m   \u001b[1;32mexcept\u001b[0m \u001b[0mcore\u001b[0m\u001b[1;33m.\u001b[0m\u001b[0m_NotOkStatusException\u001b[0m \u001b[1;32mas\u001b[0m \u001b[0me\u001b[0m\u001b[1;33m:\u001b[0m\u001b[1;33m\u001b[0m\u001b[1;33m\u001b[0m\u001b[0m\n\u001b[0;32m     63\u001b[0m     \u001b[1;32mif\u001b[0m \u001b[0mname\u001b[0m \u001b[1;32mis\u001b[0m \u001b[1;32mnot\u001b[0m \u001b[1;32mNone\u001b[0m\u001b[1;33m:\u001b[0m\u001b[1;33m\u001b[0m\u001b[1;33m\u001b[0m\u001b[0m\n",
      "\u001b[1;31mKeyboardInterrupt\u001b[0m: "
     ]
    }
   ],
   "source": [
    "model = build_model(maze)\n",
    "qtrain(model, maze, epochs=1000, max_memory=8*maze.size, data_size=32)"
   ]
  },
  {
   "cell_type": "markdown",
   "metadata": {},
   "source": [
    "This cell will check to see if the model passes the completion check. Note: This could take several minutes."
   ]
  },
  {
   "cell_type": "code",
   "execution_count": 12,
   "metadata": {},
   "outputs": [
    {
     "data": {
      "text/plain": [
       "<matplotlib.image.AxesImage at 0x1b89ee493c8>"
      ]
     },
     "execution_count": 12,
     "metadata": {},
     "output_type": "execute_result"
    },
    {
     "data": {
      "image/png": "[encoded data removed]",
      "text/plain": [
       "<Figure size 432x288 with 1 Axes>"
      ]
     },
     "metadata": {
      "needs_background": "light"
     },
     "output_type": "display_data"
    }
   ],
   "source": [
    "completion_check(model, qmaze)\n",
    "show(qmaze)"
   ]
  },
  {
   "cell_type": "markdown",
   "metadata": {},
   "source": [
    "This cell will test your model for one game. It will start the pirate at the top-left corner and run play_game. The agent should find a path from the starting position to the target (treasure). The treasure is located in the bottom-right corner."
   ]
  },
  {
   "cell_type": "code",
   "execution_count": 13,
   "metadata": {},
   "outputs": [
    {
     "data": {
      "text/plain": [
       "<matplotlib.image.AxesImage at 0x1b89eeb3fc8>"
      ]
     },
     "execution_count": 13,
     "metadata": {},
     "output_type": "execute_result"
    },
    {
     "data": {
      "image/png": "[encoded data removed]",
      "text/plain": [
       "<Figure size 432x288 with 1 Axes>"
      ]
     },
     "metadata": {
      "needs_background": "light"
     },
     "output_type": "display_data"
    }
   ],
   "source": [
    "pirate_start = (0, 0)\n",
    "play_game(model, qmaze, pirate_start)\n",
    "show(qmaze)"
   ]
  },
  {
   "cell_type": "markdown",
   "metadata": {},
   "source": [
    "## Save and Submit Your Work\n",
    "After you have finished creating the code for your notebook, save your work. Make sure that your notebook contains your name in the filename (e.g. Doe_Jane_ProjectTwo.ipynb). This will help your instructor access and grade your work easily. Download a copy of your IPYNB file and submit it to Brightspace. Refer to the Jupyter Notebook in Apporto Tutorial if you need help with these tasks."
   ]
  }
 ],
 "metadata": {
  "kernelspec": {
   "display_name": "Python 3",
   "language": "python",
   "name": "python3"
  },
  "language_info": {
   "codemirror_mode": {
    "name": "ipython",
    "version": 3
   },
   "file_extension": ".py",
   "mimetype": "text/x-python",
   "name": "python",
   "nbconvert_exporter": "python",
   "pygments_lexer": "ipython3",
   "version": "3.7.4"
  }
 },
 "nbformat": 4,
 "nbformat_minor": 2
}
